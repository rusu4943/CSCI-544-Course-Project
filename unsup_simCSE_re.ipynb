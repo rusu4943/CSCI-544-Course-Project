{
  "nbformat": 4,
  "nbformat_minor": 0,
  "metadata": {
    "kernelspec": {
      "display_name": "Python 3",
      "language": "python",
      "name": "python3"
    },
    "language_info": {
      "codemirror_mode": {
        "name": "ipython",
        "version": 3
      },
      "file_extension": ".py",
      "mimetype": "text/x-python",
      "name": "python",
      "nbconvert_exporter": "python",
      "pygments_lexer": "ipython3",
      "version": "3.7.11"
    },
    "colab": {
      "name": "unsup-simCSE-re0.1.ipynb",
      "provenance": [],
      "collapsed_sections": [],
      "machine_shape": "hm"
    },
    "accelerator": "GPU"
  },
  "cells": [
    {
      "cell_type": "code",
      "metadata": {
        "colab": {
          "base_uri": "https://localhost:8080/"
        },
        "id": "wo7xf6Mzx2ji",
        "outputId": "bff19c58-efbe-44a1-8f93-e87fa8108692"
      },
      "source": [
        "gpu_info = !nvidia-smi\n",
        "gpu_info = '\\n'.join(gpu_info)\n",
        "if gpu_info.find('failed') >= 0:\n",
        "  print('Not connected to a GPU')\n",
        "else:\n",
        "  print(gpu_info)"
      ],
      "execution_count": 1,
      "outputs": [
        {
          "output_type": "stream",
          "name": "stdout",
          "text": [
            "Thu Dec  2 13:21:00 2021       \n",
            "+-----------------------------------------------------------------------------+\n",
            "| NVIDIA-SMI 495.44       Driver Version: 460.32.03    CUDA Version: 11.2     |\n",
            "|-------------------------------+----------------------+----------------------+\n",
            "| GPU  Name        Persistence-M| Bus-Id        Disp.A | Volatile Uncorr. ECC |\n",
            "| Fan  Temp  Perf  Pwr:Usage/Cap|         Memory-Usage | GPU-Util  Compute M. |\n",
            "|                               |                      |               MIG M. |\n",
            "|===============================+======================+======================|\n",
            "|   0  Tesla P100-PCIE...  Off  | 00000000:00:04.0 Off |                    0 |\n",
            "| N/A   39C    P0    37W / 250W |      0MiB / 16280MiB |      0%      Default |\n",
            "|                               |                      |                  N/A |\n",
            "+-------------------------------+----------------------+----------------------+\n",
            "                                                                               \n",
            "+-----------------------------------------------------------------------------+\n",
            "| Processes:                                                                  |\n",
            "|  GPU   GI   CI        PID   Type   Process name                  GPU Memory |\n",
            "|        ID   ID                                                   Usage      |\n",
            "|=============================================================================|\n",
            "|  No running processes found                                                 |\n",
            "+-----------------------------------------------------------------------------+\n"
          ]
        }
      ]
    },
    {
      "cell_type": "code",
      "metadata": {
        "id": "C-s32JOs400v",
        "colab": {
          "base_uri": "https://localhost:8080/"
        },
        "outputId": "99ec7005-d139-46c7-8d44-1df5db2264a9"
      },
      "source": [
        "from google.colab import drive\n",
        "drive.mount(\"/content/drive/\")"
      ],
      "execution_count": 2,
      "outputs": [
        {
          "output_type": "stream",
          "name": "stdout",
          "text": [
            "Drive already mounted at /content/drive/; to attempt to forcibly remount, call drive.mount(\"/content/drive/\", force_remount=True).\n"
          ]
        }
      ]
    },
    {
      "cell_type": "code",
      "metadata": {
        "colab": {
          "base_uri": "https://localhost:8080/"
        },
        "id": "mbzIjjKZ4kih",
        "outputId": "f1f66e6e-b3d0-4679-c658-38ea692767fa"
      },
      "source": [
        "% cd \"/content/drive/My Drive/Colab Notebooks/544project/\"\n",
        "! pwd"
      ],
      "execution_count": 3,
      "outputs": [
        {
          "output_type": "stream",
          "name": "stdout",
          "text": [
            "/content/drive/My Drive/Colab Notebooks/544project\n",
            "/content/drive/My Drive/Colab Notebooks/544project\n"
          ]
        }
      ]
    },
    {
      "cell_type": "code",
      "metadata": {
        "colab": {
          "base_uri": "https://localhost:8080/"
        },
        "id": "nkoJsF8v5Udf",
        "outputId": "4607e792-b5b7-42d3-b048-ece595305784"
      },
      "source": [
        "! ls \"/content/drive/My Drive/Colab Notebooks/544project/\""
      ],
      "execution_count": 4,
      "outputs": [
        {
          "output_type": "stream",
          "name": "stdout",
          "text": [
            "data\t     reproduce_SIMCSE2.ipynb   unsup-simCSE-re0.1.ipynb\n",
            "model_saved  reproduce_SIMCSE.ipynb    YH.ipynb\n",
            "past\t     train_unsupervised.ipynb\n"
          ]
        }
      ]
    },
    {
      "cell_type": "code",
      "metadata": {
        "colab": {
          "base_uri": "https://localhost:8080/"
        },
        "id": "RaXAZ0vTyzd3",
        "outputId": "b428c721-749e-46f1-c30b-38f4a110fff4"
      },
      "source": [
        "! python --version"
      ],
      "execution_count": 5,
      "outputs": [
        {
          "output_type": "stream",
          "name": "stdout",
          "text": [
            "Python 3.7.12\n"
          ]
        }
      ]
    },
    {
      "cell_type": "code",
      "metadata": {
        "id": "WBgGlIvN5bGu"
      },
      "source": [
        "# install environment\n",
        "! pip3 install transformers"
      ],
      "execution_count": null,
      "outputs": []
    },
    {
      "cell_type": "code",
      "metadata": {
        "id": "AomD0r9Uxscj"
      },
      "source": [
        "import os\n",
        "import sys\n",
        "import math\n",
        "import numpy as np\n",
        "import pandas as pd\n",
        "import time\n",
        "import scipy.stats\n",
        "import random"
      ],
      "execution_count": 7,
      "outputs": []
    },
    {
      "cell_type": "code",
      "metadata": {
        "colab": {
          "base_uri": "https://localhost:8080/"
        },
        "id": "ReIAwqGRxscl",
        "outputId": "4432035e-c9c8-4c5d-88b0-3f1c7b73ad10"
      },
      "source": [
        "import torch\n",
        "import torch.nn as nn\n",
        "import torch.nn.functional as F\n",
        "import torch.optim as optim\n",
        "from torch.utils.data import Dataset,DataLoader\n",
        "from transformers import BertTokenizer, BertModel, BertConfig\n",
        "\n",
        "torch.backends.cudnn.deterministic = True\n",
        "device = torch.device('cuda') if torch.cuda.is_available() else torch.device('cpu')\n",
        "print(torch.cuda.get_device_name(torch.cuda.current_device()))\n",
        "print(torch.__version__)\n",
        "print(\"Device: {}\".format(device))"
      ],
      "execution_count": 8,
      "outputs": [
        {
          "output_type": "stream",
          "name": "stdout",
          "text": [
            "Tesla P100-PCIE-16GB\n",
            "1.10.0+cu111\n",
            "Device: cuda\n"
          ]
        }
      ]
    },
    {
      "cell_type": "code",
      "metadata": {
        "id": "cGS0VNf8xscm"
      },
      "source": [
        "output_option = ['cls', 'pooler']\n",
        "output_way = output_option[0]\n",
        "pretrained_bert = ['bert-base-uncased', 'bert-large-uncased']\n",
        "pre_embedding = pretrained_bert[0]"
      ],
      "execution_count": 9,
      "outputs": []
    },
    {
      "cell_type": "code",
      "metadata": {
        "id": "1V9-fvtYwdu4"
      },
      "source": [
        "learning_rate = 1e-5\n",
        "batch_size = 64\n",
        "maxlen = 64\n",
        "dropouts = 0.15\n",
        "dup_rate = 0.32\n",
        "save_path = \"./model_saved/best_model13.pth\"\n",
        "train_file = \"data/train.csv\"\n",
        "dev_file = \"data/sts-dev.csv\"\n",
        "test_file = \"data/sts-test.csv\"\n",
        "trainwiki_file = \"data/wiki1m_for_simcse.txt\""
      ],
      "execution_count": 10,
      "outputs": []
    },
    {
      "cell_type": "code",
      "metadata": {
        "colab": {
          "base_uri": "https://localhost:8080/"
        },
        "id": "8JgbNIRyxscm",
        "outputId": "774dee60-729c-4a7d-e11a-301ae600ce9c"
      },
      "source": [
        "# load and test base bert pretrained model\n",
        "tokenizer = BertTokenizer.from_pretrained(pre_embedding)\n",
        "Config = BertConfig.from_pretrained(pre_embedding)\n",
        "model = BertModel.from_pretrained(pre_embedding)\n",
        "text = \"Replace me by any text you'd like.\"\n",
        "encoded_input = tokenizer(text, return_tensors='pt')\n",
        "output = model(**encoded_input)\n",
        "Config = BertConfig.from_pretrained(pre_embedding)\n",
        "Config.attention_probs_dropout_prob = dropouts\n",
        "Config.hidden_dropout_prob = dropouts"
      ],
      "execution_count": 11,
      "outputs": [
        {
          "output_type": "stream",
          "name": "stderr",
          "text": [
            "Some weights of the model checkpoint at bert-base-uncased were not used when initializing BertModel: ['cls.predictions.transform.dense.bias', 'cls.predictions.transform.dense.weight', 'cls.predictions.transform.LayerNorm.weight', 'cls.seq_relationship.bias', 'cls.predictions.transform.LayerNorm.bias', 'cls.predictions.bias', 'cls.seq_relationship.weight', 'cls.predictions.decoder.weight']\n",
            "- This IS expected if you are initializing BertModel from the checkpoint of a model trained on another task or with another architecture (e.g. initializing a BertForSequenceClassification model from a BertForPreTraining model).\n",
            "- This IS NOT expected if you are initializing BertModel from the checkpoint of a model that you expect to be exactly identical (initializing a BertForSequenceClassification model from a BertForSequenceClassification model).\n"
          ]
        }
      ]
    },
    {
      "cell_type": "code",
      "metadata": {
        "id": "4lvbiu9hvpEn"
      },
      "source": [
        "# load the pretrain tokenizer for word repetition\n",
        "from tokenizers import BertWordPieceTokenizer\n",
        "repetokenizer = BertWordPieceTokenizer(\"data/bert-base-uncased-vocab.txt\", lowercase=True)"
      ],
      "execution_count": 12,
      "outputs": []
    },
    {
      "cell_type": "markdown",
      "metadata": {
        "id": "tKO3_5uvxscn"
      },
      "source": [
        "## Data"
      ]
    },
    {
      "cell_type": "code",
      "metadata": {
        "colab": {
          "base_uri": "https://localhost:8080/",
          "height": 206
        },
        "id": "Z-7YlVvyxscn",
        "outputId": "fde81736-694d-40a7-a446-83711962bd4a"
      },
      "source": [
        "# load train dataset from QQP\n",
        "df = pd.read_csv(train_file)\n",
        "df.head()"
      ],
      "execution_count": 13,
      "outputs": [
        {
          "output_type": "execute_result",
          "data": {
            "text/html": [
              "<div>\n",
              "<style scoped>\n",
              "    .dataframe tbody tr th:only-of-type {\n",
              "        vertical-align: middle;\n",
              "    }\n",
              "\n",
              "    .dataframe tbody tr th {\n",
              "        vertical-align: top;\n",
              "    }\n",
              "\n",
              "    .dataframe thead th {\n",
              "        text-align: right;\n",
              "    }\n",
              "</style>\n",
              "<table border=\"1\" class=\"dataframe\">\n",
              "  <thead>\n",
              "    <tr style=\"text-align: right;\">\n",
              "      <th></th>\n",
              "      <th>id</th>\n",
              "      <th>qid1</th>\n",
              "      <th>qid2</th>\n",
              "      <th>question1</th>\n",
              "      <th>question2</th>\n",
              "      <th>is_duplicate</th>\n",
              "    </tr>\n",
              "  </thead>\n",
              "  <tbody>\n",
              "    <tr>\n",
              "      <th>0</th>\n",
              "      <td>0</td>\n",
              "      <td>1</td>\n",
              "      <td>2</td>\n",
              "      <td>What is the step by step guide to invest in sh...</td>\n",
              "      <td>What is the step by step guide to invest in sh...</td>\n",
              "      <td>0</td>\n",
              "    </tr>\n",
              "    <tr>\n",
              "      <th>1</th>\n",
              "      <td>1</td>\n",
              "      <td>3</td>\n",
              "      <td>4</td>\n",
              "      <td>What is the story of Kohinoor (Koh-i-Noor) Dia...</td>\n",
              "      <td>What would happen if the Indian government sto...</td>\n",
              "      <td>0</td>\n",
              "    </tr>\n",
              "    <tr>\n",
              "      <th>2</th>\n",
              "      <td>2</td>\n",
              "      <td>5</td>\n",
              "      <td>6</td>\n",
              "      <td>How can I increase the speed of my internet co...</td>\n",
              "      <td>How can Internet speed be increased by hacking...</td>\n",
              "      <td>0</td>\n",
              "    </tr>\n",
              "    <tr>\n",
              "      <th>3</th>\n",
              "      <td>3</td>\n",
              "      <td>7</td>\n",
              "      <td>8</td>\n",
              "      <td>Why am I mentally very lonely? How can I solve...</td>\n",
              "      <td>Find the remainder when [math]23^{24}[/math] i...</td>\n",
              "      <td>0</td>\n",
              "    </tr>\n",
              "    <tr>\n",
              "      <th>4</th>\n",
              "      <td>4</td>\n",
              "      <td>9</td>\n",
              "      <td>10</td>\n",
              "      <td>Which one dissolve in water quikly sugar, salt...</td>\n",
              "      <td>Which fish would survive in salt water?</td>\n",
              "      <td>0</td>\n",
              "    </tr>\n",
              "  </tbody>\n",
              "</table>\n",
              "</div>"
            ],
            "text/plain": [
              "   id  qid1  ...                                          question2 is_duplicate\n",
              "0   0     1  ...  What is the step by step guide to invest in sh...            0\n",
              "1   1     3  ...  What would happen if the Indian government sto...            0\n",
              "2   2     5  ...  How can Internet speed be increased by hacking...            0\n",
              "3   3     7  ...  Find the remainder when [math]23^{24}[/math] i...            0\n",
              "4   4     9  ...            Which fish would survive in salt water?            0\n",
              "\n",
              "[5 rows x 6 columns]"
            ]
          },
          "metadata": {},
          "execution_count": 13
        }
      ]
    },
    {
      "cell_type": "code",
      "metadata": {
        "colab": {
          "base_uri": "https://localhost:8080/"
        },
        "id": "u-xARhWcxsco",
        "outputId": "72829a07-18cb-4d26-c63c-53accbbb806a"
      },
      "source": [
        "# get data in [Q1_t, Q2_t, duplicate_t]\n",
        "def get_pairs(df, cols):\n",
        "    raw = df[cols].values.tolist()\n",
        "    # delete repeat sentence\n",
        "    data = []\n",
        "    count = 0\n",
        "    for i in range(len(raw)):\n",
        "        id1 = raw[i][0]\n",
        "        id2 = raw[i][1]\n",
        "        q1 = raw[i][2]\n",
        "        q2 = raw[i][3]\n",
        "        #label = raw[i][4]\n",
        "\n",
        "        # check if repeat\n",
        "        if id1 > count:\n",
        "            data.append(str(q1))\n",
        "            count += 1\n",
        "        if id2 > count:\n",
        "            data.append(str(q2))\n",
        "            count += 1\n",
        "\n",
        "    random.shuffle(data)\n",
        "    return data\n",
        "\n",
        "data = get_pairs(df, ['qid1', 'qid2', 'question1', 'question2'])\n",
        "\n",
        "# mini train\n",
        "#train_unsup = data[:40000]\n",
        "# full train\n",
        "train_unsup = data\n",
        "print(len(train_unsup))"
      ],
      "execution_count": 14,
      "outputs": [
        {
          "output_type": "stream",
          "name": "stdout",
          "text": [
            "537933\n"
          ]
        }
      ]
    },
    {
      "cell_type": "code",
      "metadata": {
        "id": "E0stsHmSvSpK"
      },
      "source": [
        "# word repetition -- ablation\n",
        "# based on sentence token size to choose the repeat word\n",
        "def repeset(tokens, dup_rate):\n",
        "    dup_maxlen = max(2, int(dup_rate*len(tokens)))\n",
        "    dup_len = random.randint(0, dup_maxlen)\n",
        "    dup_set = np.random.randint(0, len(tokens)-1, size=dup_len)\n",
        "    return np.sort(dup_set, kind='mergesort')\n",
        "\n",
        "\n",
        "def copyword(tokens, dup_set):\n",
        "    if len(dup_set) == 0:\n",
        "        return ' '.join(token for token in tokens)\n",
        "    \n",
        "    for i in range(len(dup_set)):\n",
        "        word = tokens[dup_set[i]+i]\n",
        "        tokens.insert(dup_set[i]+i, word)\n",
        "        \n",
        "    return ' '.join(token for token in tokens)\n",
        "\n",
        "\n",
        "def repetition(data, pre_tokenizer, dup_rate):\n",
        "    # get tokenized sentence list\n",
        "    tokenized = []\n",
        "    for i in range(int(len(data)/2)):\n",
        "        tokenized += pre_tokenizer.encode_batch([data[i*2], data[i*2+1]])\n",
        "        \n",
        "    if len(data)%2 == 1:\n",
        "        tokenized.append(pre_tokenizer.encode(data[-1]))\n",
        "        \n",
        "    # unuseful data which contain only one token\n",
        "    single = []\n",
        "\n",
        "    # word repetition through sentence\n",
        "    dup_sentences = []\n",
        "    for j in range(len(tokenized)):\n",
        "        ts = tokenized[j].tokens[1:-1]\n",
        "        if len(ts) < 2:\n",
        "            single.append(j)            \n",
        "        else:\n",
        "            d_set = repeset(ts, dup_rate)\n",
        "            dup_sentences.append(copyword(ts, d_set))\n",
        "    return dup_sentences, single\n",
        "\n",
        "# remove single word sentence\n",
        "def train_clean(data, singlewords):\n",
        "    train_undup = data\n",
        "    for i in range(len(singlewords)):\n",
        "        del train_undup[singlewords[i]-i]\n",
        "    return train_undup\n",
        "\n",
        "# stack 2 list\n",
        "def combinedata(o, d):\n",
        "   output = []\n",
        "   for i in range(len(o)):\n",
        "      output.append([o[i], d[i]])\n",
        "   return output\n",
        "\n",
        "dup_data, singlewords = repetition(data, repetokenizer, dup_rate)\n",
        "origin_data = train_clean(data, singlewords)\n",
        "train_unsup = combinedata(origin_data, dup_data)"
      ],
      "execution_count": 15,
      "outputs": []
    },
    {
      "cell_type": "code",
      "metadata": {
        "id": "wo7YV3ivQp3X"
      },
      "source": [
        "# load dev and test set from STS benchmark\n",
        "def stsbprocess(path):\n",
        "    stsdata = []\n",
        "    df = pd.read_csv(path, warn_bad_lines=False, error_bad_lines=False)\n",
        "    for i in range(len(df.index)):\n",
        "        item = df.iloc[i][0].split('\\t')\n",
        "        stsdata.append([item[5], item[6], item[4]])\n",
        "    \n",
        "    return stsdata\n",
        "\n",
        "dev_data = stsbprocess(dev_file)\n",
        "test_data = stsbprocess(test_file)"
      ],
      "execution_count": 16,
      "outputs": []
    },
    {
      "cell_type": "code",
      "metadata": {
        "id": "GUnW4fSG5RTo"
      },
      "source": [
        "# load 1 million random wiki sentence for comparsion -- same as simCSE unsup\n",
        "def wiki1m(path):\n",
        "    train = []\n",
        "    with open(path, encoding='utf-8') as f:\n",
        "        train = f.readlines()  \n",
        "    random.shuffle(train)\n",
        "    data = [str(x[:-1]) for x in train]\n",
        "    return data\n",
        "\n",
        "#train_unsup = wiki1m(trainwiki_file)"
      ],
      "execution_count": 17,
      "outputs": []
    },
    {
      "cell_type": "markdown",
      "metadata": {
        "id": "pEOTb2yZxscq"
      },
      "source": [
        "## Model setting"
      ]
    },
    {
      "cell_type": "code",
      "metadata": {
        "id": "q9CPwCqUxscq"
      },
      "source": [
        "class TrainDataset(Dataset):\n",
        "    def __init__(self, data, tokenizer, maxlen, transform=None, target_transform=None):\n",
        "        self.data = data\n",
        "        self.tokenizer = tokenizer\n",
        "        self.maxlen = maxlen\n",
        "        self.transform = transform\n",
        "        self.target_transform = target_transform\n",
        "\n",
        "    def text_to_id(self, source):\n",
        "        #sample = self.tokenizer([source, source], max_length=self.maxlen, truncation=True, padding='max_length', return_tensors='pt')   # simCSE\n",
        "        sample = self.tokenizer(source, max_length=self.maxlen, truncation=True, padding='max_length', return_tensors='pt')   # word repetition, EsimCSE\n",
        "        return sample\n",
        "\n",
        "    def __len__(self):\n",
        "        return len(self.data)\n",
        "\n",
        "    def __getitem__(self, idx):\n",
        "        return self.text_to_id(self.data[idx])"
      ],
      "execution_count": 18,
      "outputs": []
    },
    {
      "cell_type": "code",
      "metadata": {
        "id": "VIy9kNb8xscr"
      },
      "source": [
        "class TestDataset:\n",
        "    def __init__(self, data, tokenizer, maxlen):\n",
        "        self.tokenizer = tokenizer\n",
        "        self.maxlen = maxlen\n",
        "        self.traget_idxs = self.text_to_id([x[0] for x in data])\n",
        "        self.source_idxs = self.text_to_id([x[1] for x in data])\n",
        "        self.label_list = [float(x[2]) for x in data]\n",
        "        assert len(self.traget_idxs['input_ids']) == len(self.source_idxs['input_ids'])\n",
        "\n",
        "    def text_to_id(self,source):\n",
        "        sample = self.tokenizer(source, max_length=self.maxlen, truncation=True, padding='max_length', return_tensors='pt')\n",
        "        return sample\n",
        "\n",
        "    def get_data(self):\n",
        "        return self.traget_idxs,self.source_idxs,self.label_list"
      ],
      "execution_count": 19,
      "outputs": []
    },
    {
      "cell_type": "code",
      "metadata": {
        "id": "aNHHBkehxscr"
      },
      "source": [
        "# build net to do contrastive process\n",
        "class NeuralNetwork(nn.Module):\n",
        "    def __init__(self, model_path,output_way):\n",
        "        super(NeuralNetwork, self).__init__()\n",
        "        self.bert = BertModel.from_pretrained(model_path, config=Config)\n",
        "        self.output_way = output_way\n",
        "        \n",
        "    def forward(self, input_ids, attention_mask, token_type_ids):\n",
        "        x1 = self.bert(input_ids, attention_mask=attention_mask, token_type_ids=token_type_ids)\n",
        "        if self.output_way == 'cls':   # use [cls] by default\n",
        "            output = x1.last_hidden_state[:,0]\n",
        "        elif self.output_way == 'pooler':\n",
        "            output = x1.pooler_output\n",
        "        return output"
      ],
      "execution_count": 20,
      "outputs": []
    },
    {
      "cell_type": "code",
      "metadata": {
        "colab": {
          "base_uri": "https://localhost:8080/"
        },
        "id": "OaI1h1h8xscr",
        "outputId": "12746754-c41e-49f2-a0dc-c3b88ab831ca"
      },
      "source": [
        "# initialize model\n",
        "model = NeuralNetwork(pre_embedding, output_way).to(device)\n",
        "optimizer = torch.optim.AdamW(model.parameters(), lr=learning_rate)"
      ],
      "execution_count": 21,
      "outputs": [
        {
          "output_type": "stream",
          "name": "stderr",
          "text": [
            "Some weights of the model checkpoint at bert-base-uncased were not used when initializing BertModel: ['cls.predictions.transform.dense.bias', 'cls.predictions.transform.dense.weight', 'cls.predictions.transform.LayerNorm.weight', 'cls.seq_relationship.bias', 'cls.predictions.transform.LayerNorm.bias', 'cls.predictions.bias', 'cls.seq_relationship.weight', 'cls.predictions.decoder.weight']\n",
            "- This IS expected if you are initializing BertModel from the checkpoint of a model trained on another task or with another architecture (e.g. initializing a BertForSequenceClassification model from a BertForPreTraining model).\n",
            "- This IS NOT expected if you are initializing BertModel from the checkpoint of a model that you expect to be exactly identical (initializing a BertForSequenceClassification model from a BertForSequenceClassification model).\n"
          ]
        }
      ]
    },
    {
      "cell_type": "code",
      "metadata": {
        "id": "oebmZ3gGxscs"
      },
      "source": [
        "# data loading\n",
        "training_data = TrainDataset(train_unsup, tokenizer, maxlen)\n",
        "train_dataloader = DataLoader(training_data, batch_size=batch_size)\n",
        "\n",
        "testing_data = TestDataset(test_data, tokenizer, maxlen)\n",
        "deving_data = TestDataset(dev_data, tokenizer, maxlen)"
      ],
      "execution_count": 22,
      "outputs": []
    },
    {
      "cell_type": "code",
      "metadata": {
        "id": "NFthGEh5xscs"
      },
      "source": [
        "# Spearman\n",
        "def compute_corrcoef(x, y):\n",
        "    return scipy.stats.spearmanr(x, y).correlation"
      ],
      "execution_count": 23,
      "outputs": []
    },
    {
      "cell_type": "code",
      "metadata": {
        "id": "pZE5eIb4xscs"
      },
      "source": [
        "# infoNCE\n",
        "def compute_loss(y_pred, temp=0.05):\n",
        "    idxs = torch.arange(0, y_pred.shape[0], device='cuda')   # get id matrix for x and x+, shape[0]==batchsize*2\n",
        "    y_true = idxs + 1 - idxs % 2 * 2   # get positive pair id matrix\n",
        "    similarities = F.cosine_similarity(y_pred.unsqueeze(1), y_pred.unsqueeze(0), dim=2)\n",
        "    #print(torch.eye(y_pred.shape[0], device='cuda'))\n",
        "    # except itself, 2n-1 negtive pair, n=batch_size\n",
        "    similarities = similarities-torch.eye(y_pred.shape[0], device='cuda') * 1e12   # exclude itself\n",
        "    similarities = similarities / temp\n",
        "    loss = F.cross_entropy(similarities, y_true)\n",
        "    #print(loss)\n",
        "    #print(torch.mean(loss))\n",
        "    return torch.mean(loss)"
      ],
      "execution_count": 24,
      "outputs": []
    },
    {
      "cell_type": "code",
      "metadata": {
        "id": "Htojj7jwJZgU"
      },
      "source": [
        "# DCL without weighting -- ablation\n",
        "def compute_loss_dcl(y_pred, temp=0.05):\n",
        "    # split the tensor into source and argumented set\n",
        "    idxs1 = torch.tensor([i1*2 for i1 in list(range(int(y_pred.shape[0]/2)))], device='cuda')\n",
        "    idxs2 = torch.tensor([i2*2+1 for i2 in list(range(int(y_pred.shape[0]/2)))], device='cuda')\n",
        "    y_pred_1 = torch.index_select(y_pred, 0, idxs1)\n",
        "    y_pred_2 = torch.index_select(y_pred, 0, idxs2)\n",
        "\n",
        "    # positive pair\n",
        "    pair_matrix = torch.mm(y_pred_1, y_pred_2.t())\n",
        "    pos_loss = -torch.diag(pair_matrix) / temp\n",
        "\n",
        "    # sum of negative pair\n",
        "    neg_similarity = torch.cat((torch.mm(y_pred_1, y_pred_1.t()), pair_matrix), dim=1) / temp\n",
        "    neg_mask = torch.eye(y_pred_1.shape[0], device='cuda').repeat(1, 2)\n",
        "    neg_loss = torch.logsumexp(neg_similarity + neg_mask * np.log(1e-45), dim=1, keepdim=False)\n",
        "    #print(pos_loss)\n",
        "    #print(neg_loss)\n",
        "    return torch.mean(pos_loss + neg_loss)"
      ],
      "execution_count": 25,
      "outputs": []
    },
    {
      "cell_type": "markdown",
      "metadata": {
        "id": "PZLpk9ydxsct"
      },
      "source": [
        "## Train and eval"
      ]
    },
    {
      "cell_type": "code",
      "metadata": {
        "id": "1Dh723yCxsct"
      },
      "source": [
        "# update based on infoNCE/DCL\n",
        "def train(dataloader, testdata, model, optimizer):\n",
        "    model.train()\n",
        "    size = len(dataloader.dataset)\n",
        "    max_corrcoef = 0\n",
        "    for batch, data in enumerate(dataloader):\n",
        "        input_ids = data['input_ids'].view(len(data['input_ids'])*2, -1).to(device)\n",
        "        attention_mask = data['attention_mask'].view(len(data['attention_mask'])*2, -1).to(device)\n",
        "        token_type_ids = data['token_type_ids'].view(len(data['token_type_ids'])*2, -1).to(device)\n",
        "        pred = model(input_ids, attention_mask, token_type_ids)\n",
        "        loss = compute_loss(pred)\n",
        "        #print(loss)\n",
        "        #break\n",
        "        # Backpropagation\n",
        "        optimizer.zero_grad()\n",
        "        loss.backward()\n",
        "        optimizer.step()\n",
        "        if batch % 10 == 0:\n",
        "            loss, current = loss.item(), batch * int(len(input_ids)/2)\n",
        "            print(f\"loss: {loss:>7f}  [{current:>5d}/{size:>5d}]\")\n",
        "            model.eval()\n",
        "            corrcoef = test(testdata, model)\n",
        "            model.train()\n",
        "            print(f\"corrcoef_test: {corrcoef:>4f}\")\n",
        "            if corrcoef > max_corrcoef:\n",
        "                max_corrcoef = corrcoef\n",
        "                torch.save(model.state_dict(), save_path)\n",
        "                print(f\"Higher corrcoef: {(max_corrcoef):>4f}, Saved PyTorch Model State to model.pth\")"
      ],
      "execution_count": 26,
      "outputs": []
    },
    {
      "cell_type": "code",
      "metadata": {
        "id": "RVD1WuQ1xsct"
      },
      "source": [
        "def test(test_data, model):\n",
        "    target_idxs, source_idxs, label_list = test_data.get_data()\n",
        "    with torch.no_grad():\n",
        "        target_input_ids = target_idxs['input_ids'].to(device)\n",
        "        target_attention_mask = target_idxs['attention_mask'].to(device)\n",
        "        target_token_type_ids = target_idxs['token_type_ids'].to(device)\n",
        "        target_pred = model(target_input_ids, target_attention_mask, target_token_type_ids)\n",
        "\n",
        "        source_input_ids = source_idxs['input_ids'].to(device)\n",
        "        source_attention_mask = source_idxs['attention_mask'].to(device)\n",
        "        source_token_type_ids = source_idxs['token_type_ids'].to(device)\n",
        "        source_pred = model(source_input_ids, source_attention_mask, source_token_type_ids)\n",
        "       \n",
        "        similarity_list = F.cosine_similarity(target_pred, source_pred)\n",
        "        similarity_list = similarity_list.cpu().numpy()\n",
        "        label_list = np.array(label_list)\n",
        "        corrcoef = compute_corrcoef(label_list, similarity_list)\n",
        "    return corrcoef"
      ],
      "execution_count": 27,
      "outputs": []
    },
    {
      "cell_type": "code",
      "metadata": {
        "colab": {
          "base_uri": "https://localhost:8080/"
        },
        "id": "N7NOjjohxsct",
        "outputId": "e83dc999-8424-4690-ba4e-8733f780642b"
      },
      "source": [
        "# train\n",
        "if __name__ == '__main__':\n",
        "    epochs = 1\n",
        "    for t in range(epochs):\n",
        "        print(f\"Epoch {t + 1}\\n-------------------------------\")\n",
        "        train(train_dataloader, deving_data, model, optimizer)\n",
        "    print(\"Train_Done!\")"
      ],
      "execution_count": null,
      "outputs": [
        {
          "output_type": "stream",
          "name": "stdout",
          "text": [
            "Epoch 1\n",
            "-------------------------------\n",
            "loss: 4.374442  [    0/537894]\n",
            "corrcoef_test: 0.277061\n",
            "Higher corrcoef: 0.277061, Saved PyTorch Model State to model.pth\n",
            "loss: 0.830020  [  640/537894]\n",
            "corrcoef_test: 0.405289\n",
            "Higher corrcoef: 0.405289, Saved PyTorch Model State to model.pth\n",
            "loss: 0.169460  [ 1280/537894]\n",
            "corrcoef_test: 0.494266\n",
            "Higher corrcoef: 0.494266, Saved PyTorch Model State to model.pth\n",
            "loss: 0.150484  [ 1920/537894]\n",
            "corrcoef_test: 0.525194\n",
            "Higher corrcoef: 0.525194, Saved PyTorch Model State to model.pth\n",
            "loss: 0.107275  [ 2560/537894]\n",
            "corrcoef_test: 0.541107\n",
            "Higher corrcoef: 0.541107, Saved PyTorch Model State to model.pth\n",
            "loss: 0.094635  [ 3200/537894]\n",
            "corrcoef_test: 0.549604\n",
            "Higher corrcoef: 0.549604, Saved PyTorch Model State to model.pth\n",
            "loss: 0.071044  [ 3840/537894]\n",
            "corrcoef_test: 0.556162\n",
            "Higher corrcoef: 0.556162, Saved PyTorch Model State to model.pth\n",
            "loss: 0.078925  [ 4480/537894]\n",
            "corrcoef_test: 0.560185\n",
            "Higher corrcoef: 0.560185, Saved PyTorch Model State to model.pth\n",
            "loss: 0.056956  [ 5120/537894]\n",
            "corrcoef_test: 0.563739\n",
            "Higher corrcoef: 0.563739, Saved PyTorch Model State to model.pth\n",
            "loss: 0.033450  [ 5760/537894]\n",
            "corrcoef_test: 0.567873\n",
            "Higher corrcoef: 0.567873, Saved PyTorch Model State to model.pth\n",
            "loss: 0.029003  [ 6400/537894]\n",
            "corrcoef_test: 0.571431\n",
            "Higher corrcoef: 0.571431, Saved PyTorch Model State to model.pth\n",
            "loss: 0.032205  [ 7040/537894]\n",
            "corrcoef_test: 0.575490\n",
            "Higher corrcoef: 0.575490, Saved PyTorch Model State to model.pth\n",
            "loss: 0.027135  [ 7680/537894]\n",
            "corrcoef_test: 0.581544\n",
            "Higher corrcoef: 0.581544, Saved PyTorch Model State to model.pth\n",
            "loss: 0.037845  [ 8320/537894]\n",
            "corrcoef_test: 0.585674\n",
            "Higher corrcoef: 0.585674, Saved PyTorch Model State to model.pth\n",
            "loss: 0.022963  [ 8960/537894]\n",
            "corrcoef_test: 0.589591\n",
            "Higher corrcoef: 0.589591, Saved PyTorch Model State to model.pth\n",
            "loss: 0.022524  [ 9600/537894]\n",
            "corrcoef_test: 0.593817\n",
            "Higher corrcoef: 0.593817, Saved PyTorch Model State to model.pth\n",
            "loss: 0.029215  [10240/537894]\n",
            "corrcoef_test: 0.601072\n",
            "Higher corrcoef: 0.601072, Saved PyTorch Model State to model.pth\n",
            "loss: 0.019386  [10880/537894]\n",
            "corrcoef_test: 0.607141\n",
            "Higher corrcoef: 0.607141, Saved PyTorch Model State to model.pth\n",
            "loss: 0.029845  [11520/537894]\n",
            "corrcoef_test: 0.612571\n",
            "Higher corrcoef: 0.612571, Saved PyTorch Model State to model.pth\n",
            "loss: 0.018594  [12160/537894]\n",
            "corrcoef_test: 0.616605\n",
            "Higher corrcoef: 0.616605, Saved PyTorch Model State to model.pth\n",
            "loss: 0.019424  [12800/537894]\n",
            "corrcoef_test: 0.619052\n",
            "Higher corrcoef: 0.619052, Saved PyTorch Model State to model.pth\n",
            "loss: 0.013962  [13440/537894]\n",
            "corrcoef_test: 0.622842\n",
            "Higher corrcoef: 0.622842, Saved PyTorch Model State to model.pth\n",
            "loss: 0.010964  [14080/537894]\n",
            "corrcoef_test: 0.625300\n",
            "Higher corrcoef: 0.625300, Saved PyTorch Model State to model.pth\n",
            "loss: 0.020969  [14720/537894]\n",
            "corrcoef_test: 0.628249\n",
            "Higher corrcoef: 0.628249, Saved PyTorch Model State to model.pth\n",
            "loss: 0.015909  [15360/537894]\n",
            "corrcoef_test: 0.632111\n",
            "Higher corrcoef: 0.632111, Saved PyTorch Model State to model.pth\n",
            "loss: 0.017766  [16000/537894]\n",
            "corrcoef_test: 0.635280\n",
            "Higher corrcoef: 0.635280, Saved PyTorch Model State to model.pth\n",
            "loss: 0.071464  [16640/537894]\n",
            "corrcoef_test: 0.638301\n",
            "Higher corrcoef: 0.638301, Saved PyTorch Model State to model.pth\n",
            "loss: 0.011442  [17280/537894]\n",
            "corrcoef_test: 0.640122\n",
            "Higher corrcoef: 0.640122, Saved PyTorch Model State to model.pth\n",
            "loss: 0.009526  [17920/537894]\n",
            "corrcoef_test: 0.641946\n",
            "Higher corrcoef: 0.641946, Saved PyTorch Model State to model.pth\n",
            "loss: 0.034114  [18560/537894]\n",
            "corrcoef_test: 0.644774\n",
            "Higher corrcoef: 0.644774, Saved PyTorch Model State to model.pth\n",
            "loss: 0.006762  [19200/537894]\n",
            "corrcoef_test: 0.648140\n",
            "Higher corrcoef: 0.648140, Saved PyTorch Model State to model.pth\n",
            "loss: 0.012633  [19840/537894]\n",
            "corrcoef_test: 0.652170\n",
            "Higher corrcoef: 0.652170, Saved PyTorch Model State to model.pth\n",
            "loss: 0.018343  [20480/537894]\n",
            "corrcoef_test: 0.655163\n",
            "Higher corrcoef: 0.655163, Saved PyTorch Model State to model.pth\n",
            "loss: 0.012154  [21120/537894]\n",
            "corrcoef_test: 0.657469\n",
            "Higher corrcoef: 0.657469, Saved PyTorch Model State to model.pth\n",
            "loss: 0.010179  [21760/537894]\n",
            "corrcoef_test: 0.659820\n",
            "Higher corrcoef: 0.659820, Saved PyTorch Model State to model.pth\n",
            "loss: 0.006947  [22400/537894]\n",
            "corrcoef_test: 0.662433\n",
            "Higher corrcoef: 0.662433, Saved PyTorch Model State to model.pth\n",
            "loss: 0.011251  [23040/537894]\n",
            "corrcoef_test: 0.665003\n",
            "Higher corrcoef: 0.665003, Saved PyTorch Model State to model.pth\n",
            "loss: 0.010211  [23680/537894]\n",
            "corrcoef_test: 0.667340\n",
            "Higher corrcoef: 0.667340, Saved PyTorch Model State to model.pth\n",
            "loss: 0.008161  [24320/537894]\n",
            "corrcoef_test: 0.669619\n",
            "Higher corrcoef: 0.669619, Saved PyTorch Model State to model.pth\n",
            "loss: 0.004672  [24960/537894]\n",
            "corrcoef_test: 0.672417\n",
            "Higher corrcoef: 0.672417, Saved PyTorch Model State to model.pth\n",
            "loss: 0.008642  [25600/537894]\n",
            "corrcoef_test: 0.673263\n",
            "Higher corrcoef: 0.673263, Saved PyTorch Model State to model.pth\n",
            "loss: 0.004920  [26240/537894]\n",
            "corrcoef_test: 0.673658\n",
            "Higher corrcoef: 0.673658, Saved PyTorch Model State to model.pth\n",
            "loss: 0.009599  [26880/537894]\n",
            "corrcoef_test: 0.674143\n",
            "Higher corrcoef: 0.674143, Saved PyTorch Model State to model.pth\n",
            "loss: 0.008189  [27520/537894]\n",
            "corrcoef_test: 0.675679\n",
            "Higher corrcoef: 0.675679, Saved PyTorch Model State to model.pth\n",
            "loss: 0.007212  [28160/537894]\n",
            "corrcoef_test: 0.677565\n",
            "Higher corrcoef: 0.677565, Saved PyTorch Model State to model.pth\n",
            "loss: 0.011172  [28800/537894]\n",
            "corrcoef_test: 0.680016\n",
            "Higher corrcoef: 0.680016, Saved PyTorch Model State to model.pth\n",
            "loss: 0.005022  [29440/537894]\n",
            "corrcoef_test: 0.683421\n",
            "Higher corrcoef: 0.683421, Saved PyTorch Model State to model.pth\n",
            "loss: 0.004864  [30080/537894]\n",
            "corrcoef_test: 0.685434\n",
            "Higher corrcoef: 0.685434, Saved PyTorch Model State to model.pth\n",
            "loss: 0.046009  [30720/537894]\n",
            "corrcoef_test: 0.686978\n",
            "Higher corrcoef: 0.686978, Saved PyTorch Model State to model.pth\n",
            "loss: 0.007493  [31360/537894]\n",
            "corrcoef_test: 0.687769\n",
            "Higher corrcoef: 0.687769, Saved PyTorch Model State to model.pth\n",
            "loss: 0.003986  [32000/537894]\n",
            "corrcoef_test: 0.688437\n",
            "Higher corrcoef: 0.688437, Saved PyTorch Model State to model.pth\n",
            "loss: 0.006276  [32640/537894]\n",
            "corrcoef_test: 0.689153\n",
            "Higher corrcoef: 0.689153, Saved PyTorch Model State to model.pth\n",
            "loss: 0.008251  [33280/537894]\n",
            "corrcoef_test: 0.688722\n",
            "loss: 0.006544  [33920/537894]\n",
            "corrcoef_test: 0.690608\n",
            "Higher corrcoef: 0.690608, Saved PyTorch Model State to model.pth\n",
            "loss: 0.004244  [34560/537894]\n",
            "corrcoef_test: 0.693062\n",
            "Higher corrcoef: 0.693062, Saved PyTorch Model State to model.pth\n",
            "loss: 0.006075  [35200/537894]\n",
            "corrcoef_test: 0.695531\n",
            "Higher corrcoef: 0.695531, Saved PyTorch Model State to model.pth\n",
            "loss: 0.018400  [35840/537894]\n",
            "corrcoef_test: 0.696671\n",
            "Higher corrcoef: 0.696671, Saved PyTorch Model State to model.pth\n",
            "loss: 0.006679  [36480/537894]\n",
            "corrcoef_test: 0.697485\n",
            "Higher corrcoef: 0.697485, Saved PyTorch Model State to model.pth\n",
            "loss: 0.004640  [37120/537894]\n",
            "corrcoef_test: 0.697817\n",
            "Higher corrcoef: 0.697817, Saved PyTorch Model State to model.pth\n",
            "loss: 0.023368  [37760/537894]\n",
            "corrcoef_test: 0.699228\n",
            "Higher corrcoef: 0.699228, Saved PyTorch Model State to model.pth\n",
            "loss: 0.004219  [38400/537894]\n",
            "corrcoef_test: 0.701035\n",
            "Higher corrcoef: 0.701035, Saved PyTorch Model State to model.pth\n",
            "loss: 0.006959  [39040/537894]\n",
            "corrcoef_test: 0.704115\n",
            "Higher corrcoef: 0.704115, Saved PyTorch Model State to model.pth\n",
            "loss: 0.009352  [39680/537894]\n",
            "corrcoef_test: 0.705824\n",
            "Higher corrcoef: 0.705824, Saved PyTorch Model State to model.pth\n",
            "loss: 0.005016  [40320/537894]\n",
            "corrcoef_test: 0.706807\n",
            "Higher corrcoef: 0.706807, Saved PyTorch Model State to model.pth\n",
            "loss: 0.004383  [40960/537894]\n",
            "corrcoef_test: 0.706910\n",
            "Higher corrcoef: 0.706910, Saved PyTorch Model State to model.pth\n",
            "loss: 0.006167  [41600/537894]\n",
            "corrcoef_test: 0.707378\n",
            "Higher corrcoef: 0.707378, Saved PyTorch Model State to model.pth\n",
            "loss: 0.005421  [42240/537894]\n",
            "corrcoef_test: 0.709328\n",
            "Higher corrcoef: 0.709328, Saved PyTorch Model State to model.pth\n",
            "loss: 0.003757  [42880/537894]\n",
            "corrcoef_test: 0.710368\n",
            "Higher corrcoef: 0.710368, Saved PyTorch Model State to model.pth\n",
            "loss: 0.004595  [43520/537894]\n",
            "corrcoef_test: 0.712727\n",
            "Higher corrcoef: 0.712727, Saved PyTorch Model State to model.pth\n",
            "loss: 0.004376  [44160/537894]\n",
            "corrcoef_test: 0.714478\n",
            "Higher corrcoef: 0.714478, Saved PyTorch Model State to model.pth\n",
            "loss: 0.003204  [44800/537894]\n",
            "corrcoef_test: 0.715631\n",
            "Higher corrcoef: 0.715631, Saved PyTorch Model State to model.pth\n",
            "loss: 0.003303  [45440/537894]\n",
            "corrcoef_test: 0.716142\n",
            "Higher corrcoef: 0.716142, Saved PyTorch Model State to model.pth\n",
            "loss: 0.005770  [46080/537894]\n",
            "corrcoef_test: 0.716559\n",
            "Higher corrcoef: 0.716559, Saved PyTorch Model State to model.pth\n",
            "loss: 0.003984  [46720/537894]\n",
            "corrcoef_test: 0.716876\n",
            "Higher corrcoef: 0.716876, Saved PyTorch Model State to model.pth\n",
            "loss: 0.009267  [47360/537894]\n",
            "corrcoef_test: 0.716447\n",
            "loss: 0.010221  [48000/537894]\n",
            "corrcoef_test: 0.716600\n",
            "loss: 0.003992  [48640/537894]\n",
            "corrcoef_test: 0.719051\n",
            "Higher corrcoef: 0.719051, Saved PyTorch Model State to model.pth\n",
            "loss: 0.003877  [49280/537894]\n",
            "corrcoef_test: 0.720060\n",
            "Higher corrcoef: 0.720060, Saved PyTorch Model State to model.pth\n",
            "loss: 0.005074  [49920/537894]\n",
            "corrcoef_test: 0.720671\n",
            "Higher corrcoef: 0.720671, Saved PyTorch Model State to model.pth\n",
            "loss: 0.003757  [50560/537894]\n",
            "corrcoef_test: 0.723325\n",
            "Higher corrcoef: 0.723325, Saved PyTorch Model State to model.pth\n",
            "loss: 0.007022  [51200/537894]\n",
            "corrcoef_test: 0.725609\n",
            "Higher corrcoef: 0.725609, Saved PyTorch Model State to model.pth\n",
            "loss: 0.003192  [51840/537894]\n",
            "corrcoef_test: 0.726988\n",
            "Higher corrcoef: 0.726988, Saved PyTorch Model State to model.pth\n",
            "loss: 0.004411  [52480/537894]\n",
            "corrcoef_test: 0.728905\n",
            "Higher corrcoef: 0.728905, Saved PyTorch Model State to model.pth\n",
            "loss: 0.003834  [53120/537894]\n",
            "corrcoef_test: 0.730106\n",
            "Higher corrcoef: 0.730106, Saved PyTorch Model State to model.pth\n",
            "loss: 0.003602  [53760/537894]\n",
            "corrcoef_test: 0.729839\n",
            "loss: 0.004377  [54400/537894]\n",
            "corrcoef_test: 0.729086\n",
            "loss: 0.002521  [55040/537894]\n",
            "corrcoef_test: 0.728990\n",
            "loss: 0.030750  [55680/537894]\n",
            "corrcoef_test: 0.730136\n",
            "Higher corrcoef: 0.730136, Saved PyTorch Model State to model.pth\n",
            "loss: 0.003686  [56320/537894]\n",
            "corrcoef_test: 0.737547\n",
            "Higher corrcoef: 0.737547, Saved PyTorch Model State to model.pth\n",
            "loss: 0.002705  [56960/537894]\n",
            "corrcoef_test: 0.740213\n",
            "Higher corrcoef: 0.740213, Saved PyTorch Model State to model.pth\n",
            "loss: 0.003203  [57600/537894]\n",
            "corrcoef_test: 0.741529\n",
            "Higher corrcoef: 0.741529, Saved PyTorch Model State to model.pth\n",
            "loss: 0.002679  [58240/537894]\n",
            "corrcoef_test: 0.741015\n",
            "loss: 0.004260  [58880/537894]\n",
            "corrcoef_test: 0.740749\n",
            "loss: 0.004368  [59520/537894]\n",
            "corrcoef_test: 0.740388\n",
            "loss: 0.004038  [60160/537894]\n",
            "corrcoef_test: 0.740321\n",
            "loss: 0.006036  [60800/537894]\n",
            "corrcoef_test: 0.740896\n",
            "loss: 0.002579  [61440/537894]\n",
            "corrcoef_test: 0.741520\n",
            "loss: 0.002946  [62080/537894]\n",
            "corrcoef_test: 0.741855\n",
            "Higher corrcoef: 0.741855, Saved PyTorch Model State to model.pth\n",
            "loss: 0.009313  [62720/537894]\n",
            "corrcoef_test: 0.741773\n",
            "loss: 0.003343  [63360/537894]\n",
            "corrcoef_test: 0.741395\n",
            "loss: 0.002505  [64000/537894]\n",
            "corrcoef_test: 0.741742\n",
            "loss: 0.002901  [64640/537894]\n",
            "corrcoef_test: 0.742403\n",
            "Higher corrcoef: 0.742403, Saved PyTorch Model State to model.pth\n",
            "loss: 0.001698  [65280/537894]\n",
            "corrcoef_test: 0.743360\n",
            "Higher corrcoef: 0.743360, Saved PyTorch Model State to model.pth\n",
            "loss: 0.003348  [65920/537894]\n",
            "corrcoef_test: 0.743975\n",
            "Higher corrcoef: 0.743975, Saved PyTorch Model State to model.pth\n",
            "loss: 0.003696  [66560/537894]\n",
            "corrcoef_test: 0.744771\n",
            "Higher corrcoef: 0.744771, Saved PyTorch Model State to model.pth\n",
            "loss: 0.004466  [67200/537894]\n",
            "corrcoef_test: 0.745704\n",
            "Higher corrcoef: 0.745704, Saved PyTorch Model State to model.pth\n",
            "loss: 0.001894  [67840/537894]\n",
            "corrcoef_test: 0.745501\n",
            "loss: 0.004416  [68480/537894]\n",
            "corrcoef_test: 0.745174\n",
            "loss: 0.002503  [69120/537894]\n",
            "corrcoef_test: 0.745689\n",
            "loss: 0.002251  [69760/537894]\n",
            "corrcoef_test: 0.746340\n",
            "Higher corrcoef: 0.746340, Saved PyTorch Model State to model.pth\n",
            "loss: 0.001943  [70400/537894]\n",
            "corrcoef_test: 0.746718\n",
            "Higher corrcoef: 0.746718, Saved PyTorch Model State to model.pth\n",
            "loss: 0.002971  [71040/537894]\n",
            "corrcoef_test: 0.747510\n",
            "Higher corrcoef: 0.747510, Saved PyTorch Model State to model.pth\n",
            "loss: 0.002597  [71680/537894]\n",
            "corrcoef_test: 0.748038\n",
            "Higher corrcoef: 0.748038, Saved PyTorch Model State to model.pth\n",
            "loss: 0.001965  [72320/537894]\n",
            "corrcoef_test: 0.748645\n",
            "Higher corrcoef: 0.748645, Saved PyTorch Model State to model.pth\n",
            "loss: 0.003944  [72960/537894]\n",
            "corrcoef_test: 0.749056\n",
            "Higher corrcoef: 0.749056, Saved PyTorch Model State to model.pth\n",
            "loss: 0.002022  [73600/537894]\n",
            "corrcoef_test: 0.749776\n",
            "Higher corrcoef: 0.749776, Saved PyTorch Model State to model.pth\n",
            "loss: 0.002483  [74240/537894]\n",
            "corrcoef_test: 0.750069\n",
            "Higher corrcoef: 0.750069, Saved PyTorch Model State to model.pth\n",
            "loss: 0.002844  [74880/537894]\n",
            "corrcoef_test: 0.750272\n",
            "Higher corrcoef: 0.750272, Saved PyTorch Model State to model.pth\n",
            "loss: 0.002833  [75520/537894]\n",
            "corrcoef_test: 0.748855\n",
            "loss: 0.002109  [76160/537894]\n",
            "corrcoef_test: 0.748363\n",
            "loss: 0.002086  [76800/537894]\n",
            "corrcoef_test: 0.748363\n",
            "loss: 0.013803  [77440/537894]\n",
            "corrcoef_test: 0.748710\n",
            "loss: 0.002643  [78080/537894]\n",
            "corrcoef_test: 0.748722\n",
            "loss: 0.001856  [78720/537894]\n",
            "corrcoef_test: 0.749201\n",
            "loss: 0.002521  [79360/537894]\n",
            "corrcoef_test: 0.750924\n",
            "Higher corrcoef: 0.750924, Saved PyTorch Model State to model.pth\n",
            "loss: 0.002164  [80000/537894]\n",
            "corrcoef_test: 0.752346\n",
            "Higher corrcoef: 0.752346, Saved PyTorch Model State to model.pth\n",
            "loss: 0.002067  [80640/537894]\n",
            "corrcoef_test: 0.753255\n",
            "Higher corrcoef: 0.753255, Saved PyTorch Model State to model.pth\n",
            "loss: 0.001922  [81280/537894]\n",
            "corrcoef_test: 0.752930\n",
            "loss: 0.001923  [81920/537894]\n",
            "corrcoef_test: 0.752957\n",
            "loss: 0.002403  [82560/537894]\n",
            "corrcoef_test: 0.752923\n",
            "loss: 0.003625  [83200/537894]\n",
            "corrcoef_test: 0.753035\n",
            "loss: 0.001427  [83840/537894]\n",
            "corrcoef_test: 0.752955\n",
            "loss: 0.002841  [84480/537894]\n",
            "corrcoef_test: 0.752753\n",
            "loss: 0.001976  [85120/537894]\n",
            "corrcoef_test: 0.753105\n",
            "loss: 0.001921  [85760/537894]\n",
            "corrcoef_test: 0.753214\n",
            "loss: 0.002000  [86400/537894]\n",
            "corrcoef_test: 0.752883\n",
            "loss: 0.001334  [87040/537894]\n",
            "corrcoef_test: 0.753593\n",
            "Higher corrcoef: 0.753593, Saved PyTorch Model State to model.pth\n",
            "loss: 0.001878  [87680/537894]\n",
            "corrcoef_test: 0.754387\n",
            "Higher corrcoef: 0.754387, Saved PyTorch Model State to model.pth\n",
            "loss: 0.004234  [88320/537894]\n",
            "corrcoef_test: 0.754379\n",
            "loss: 0.001506  [88960/537894]\n",
            "corrcoef_test: 0.754760\n",
            "Higher corrcoef: 0.754760, Saved PyTorch Model State to model.pth\n",
            "loss: 0.001455  [89600/537894]\n",
            "corrcoef_test: 0.755352\n",
            "Higher corrcoef: 0.755352, Saved PyTorch Model State to model.pth\n",
            "loss: 0.004738  [90240/537894]\n",
            "corrcoef_test: 0.754750\n",
            "loss: 0.001503  [90880/537894]\n",
            "corrcoef_test: 0.753689\n",
            "loss: 0.003635  [91520/537894]\n",
            "corrcoef_test: 0.753342\n",
            "loss: 0.002840  [92160/537894]\n",
            "corrcoef_test: 0.753059\n",
            "loss: 0.001998  [92800/537894]\n",
            "corrcoef_test: 0.753043\n",
            "loss: 0.003982  [93440/537894]\n",
            "corrcoef_test: 0.754495\n",
            "loss: 0.004447  [94080/537894]\n",
            "corrcoef_test: 0.755748\n",
            "Higher corrcoef: 0.755748, Saved PyTorch Model State to model.pth\n",
            "loss: 0.002371  [94720/537894]\n",
            "corrcoef_test: 0.756073\n",
            "Higher corrcoef: 0.756073, Saved PyTorch Model State to model.pth\n",
            "loss: 0.001583  [95360/537894]\n",
            "corrcoef_test: 0.755888\n",
            "loss: 0.001734  [96000/537894]\n",
            "corrcoef_test: 0.755076\n",
            "loss: 0.001702  [96640/537894]\n",
            "corrcoef_test: 0.754372\n",
            "loss: 0.007230  [97280/537894]\n",
            "corrcoef_test: 0.754499\n",
            "loss: 0.001279  [97920/537894]\n",
            "corrcoef_test: 0.753206\n",
            "loss: 0.003293  [98560/537894]\n",
            "corrcoef_test: 0.752178\n",
            "loss: 0.001625  [99200/537894]\n",
            "corrcoef_test: 0.751847\n",
            "loss: 0.003177  [99840/537894]\n",
            "corrcoef_test: 0.751431\n",
            "loss: 0.001949  [100480/537894]\n",
            "corrcoef_test: 0.751409\n",
            "loss: 0.006044  [101120/537894]\n",
            "corrcoef_test: 0.751471\n",
            "loss: 0.012437  [101760/537894]\n",
            "corrcoef_test: 0.751383\n",
            "loss: 0.002086  [102400/537894]\n",
            "corrcoef_test: 0.750569\n",
            "loss: 0.002908  [103040/537894]\n",
            "corrcoef_test: 0.749764\n",
            "loss: 0.002037  [103680/537894]\n",
            "corrcoef_test: 0.749550\n",
            "loss: 0.001568  [104320/537894]\n",
            "corrcoef_test: 0.749570\n",
            "loss: 0.002231  [104960/537894]\n",
            "corrcoef_test: 0.748765\n",
            "loss: 0.001258  [105600/537894]\n",
            "corrcoef_test: 0.748611\n",
            "loss: 0.002577  [106240/537894]\n",
            "corrcoef_test: 0.749152\n",
            "loss: 0.001962  [106880/537894]\n",
            "corrcoef_test: 0.750076\n",
            "loss: 0.001776  [107520/537894]\n",
            "corrcoef_test: 0.750441\n",
            "loss: 0.001212  [108160/537894]\n",
            "corrcoef_test: 0.750392\n",
            "loss: 0.003120  [108800/537894]\n",
            "corrcoef_test: 0.749765\n",
            "loss: 0.001161  [109440/537894]\n",
            "corrcoef_test: 0.749325\n",
            "loss: 0.002059  [110080/537894]\n",
            "corrcoef_test: 0.749345\n",
            "loss: 0.001623  [110720/537894]\n",
            "corrcoef_test: 0.749974\n",
            "loss: 0.002006  [111360/537894]\n",
            "corrcoef_test: 0.750835\n",
            "loss: 0.002427  [112000/537894]\n",
            "corrcoef_test: 0.751765\n",
            "loss: 0.001698  [112640/537894]\n",
            "corrcoef_test: 0.752410\n",
            "loss: 0.001758  [113280/537894]\n",
            "corrcoef_test: 0.752398\n",
            "loss: 0.001446  [113920/537894]\n",
            "corrcoef_test: 0.752826\n",
            "loss: 0.001747  [114560/537894]\n",
            "corrcoef_test: 0.752960\n",
            "loss: 0.001144  [115200/537894]\n",
            "corrcoef_test: 0.753230\n",
            "loss: 0.001697  [115840/537894]\n",
            "corrcoef_test: 0.753316\n",
            "loss: 0.002166  [116480/537894]\n",
            "corrcoef_test: 0.753396\n",
            "loss: 0.001328  [117120/537894]\n",
            "corrcoef_test: 0.753528\n",
            "loss: 0.000940  [117760/537894]\n",
            "corrcoef_test: 0.753029\n",
            "loss: 0.001423  [118400/537894]\n",
            "corrcoef_test: 0.752495\n",
            "loss: 0.001983  [119040/537894]\n",
            "corrcoef_test: 0.752629\n",
            "loss: 0.001800  [119680/537894]\n",
            "corrcoef_test: 0.753028\n",
            "loss: 0.001582  [120320/537894]\n",
            "corrcoef_test: 0.753401\n",
            "loss: 0.001438  [120960/537894]\n",
            "corrcoef_test: 0.754671\n",
            "loss: 0.001744  [121600/537894]\n",
            "corrcoef_test: 0.755220\n",
            "loss: 0.001716  [122240/537894]\n",
            "corrcoef_test: 0.755072\n",
            "loss: 0.001720  [122880/537894]\n",
            "corrcoef_test: 0.753864\n",
            "loss: 0.002107  [123520/537894]\n",
            "corrcoef_test: 0.752904\n",
            "loss: 0.001435  [124160/537894]\n",
            "corrcoef_test: 0.752342\n",
            "loss: 0.001418  [124800/537894]\n",
            "corrcoef_test: 0.752258\n",
            "loss: 0.001466  [125440/537894]\n",
            "corrcoef_test: 0.751909\n",
            "loss: 0.001104  [126080/537894]\n",
            "corrcoef_test: 0.751672\n",
            "loss: 0.000957  [126720/537894]\n",
            "corrcoef_test: 0.751690\n",
            "loss: 0.001560  [127360/537894]\n",
            "corrcoef_test: 0.751528\n",
            "loss: 0.002394  [128000/537894]\n",
            "corrcoef_test: 0.751731\n"
          ]
        }
      ]
    },
    {
      "cell_type": "code",
      "metadata": {
        "id": "-woEU0gCUpna"
      },
      "source": [
        "# test\n",
        "#save_path = \"./model_saved/best_model2.pth\"\n",
        "model.load_state_dict(torch.load(save_path))\n",
        "corrcoef = test(testing_data, model)\n",
        "print(f\"test_corrcoef: {corrcoef:>4f}\")"
      ],
      "execution_count": null,
      "outputs": []
    },
    {
      "cell_type": "markdown",
      "metadata": {
        "id": "Lc5uY7lu9EyJ"
      },
      "source": [
        "simCSE -- batch64 dropout0.1 dev0.825  on 1 million \\\\\n",
        "model -- batch64 dropout0.3 dev0.780 \\\\\n",
        "model1 -- batch64 dropout0.2 dev0.782 test0.75 \\\\\n",
        "model2 -- batch64 dropout0.25 dev0.798 test0.71 \\\\\n",
        "model3 -- batch64 dropout0.15 dev0.771 test0.73 \\\\\n",
        "model4 -- batch64 dropout0.25 decouple dev0.751 temp0.05 \\\\\n",
        "model5 -- batch64 dropout0.15 decouple dev0.76 temp0.05 \\\\\n",
        "model6 -- batch64 dropout0.2 decouple dev0.754 temp0.05\\\\\n",
        "model7 -- batch64 dropout0.15 decouple dev0.773 temp0.2 \\\\\n",
        "model8 -- batch64 dropout0.1 wiki1m \\\\\n",
        "model9 -- batch64 dropout0.1 wordrepetition dev0.783 test0.757 \\\\\n",
        "model10 -- batch64 dropout0.1 dev0.744 \\\\\n",
        "model11 -- batch64 dropout0.2 wordrepetition dev0.793 test0.74 \\\\\n",
        "model12 -- batch64 dropout0.25 wordrepetition dev790 test0.72 \\\\\n",
        "model13 -- batch64 dropout0.15 wordrepetition dev \\\\"
      ]
    },
    {
      "cell_type": "code",
      "metadata": {
        "id": "SGOqabpjs1gG"
      },
      "source": [
        ""
      ],
      "execution_count": null,
      "outputs": []
    }
  ]
}